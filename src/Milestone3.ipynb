{
 "cells": [
  {
   "cell_type": "markdown",
   "metadata": {},
   "source": [
    "# Milestone 3"
   ]
  },
  {
   "cell_type": "code",
   "execution_count": null,
   "metadata": {},
   "outputs": [],
   "source": [
    "# Imports\n",
    "import pandas as pd\n",
    "import numpy as np\n",
    "import geopandas as gpd\n",
    "import seaborn as sns\n",
    "import matplotlib.pyplot as plt"
   ]
  },
  {
   "cell_type": "code",
   "execution_count": null,
   "metadata": {},
   "outputs": [],
   "source": [
    "# Read data\n",
    "voter_df = pd.read_csv('../data/MA_l2_2022stats_2020block/MA_l2_2022stats_2020block.csv', low_memory=False).set_index('geoid20')\n",
    "voter_df.shape"
   ]
  },
  {
   "cell_type": "code",
   "execution_count": null,
   "metadata": {},
   "outputs": [],
   "source": [
    "# Group demographic columns together\n",
    "registered = ['total_reg']\n",
    "age = ['age_18_19', 'age_20_24', 'age_25_29','age_30_34','age_35_44', 'age_45_54', 'age_55_64', 'age_65_74','age_75_84', 'age_85over']\n",
    "gender = [ 'voters_gender_m', 'voters_gender_f', 'voters_gender_unknown'] \n",
    "party = ['party_npp', 'party_dem', 'party_rep','party_lib', 'party_grn', 'party_con', 'party_ain', 'party_scl','party_oth', 'party_unk']\n",
    "ethnicity1 = ['eth1_eur', 'eth1_hisp', 'eth1_aa',\n",
    "                'eth1_esa', 'eth1_oth', 'eth1_unk']\n",
    "ethnicity2 = ['eth2_euro', 'eth2_64',\n",
    "                'eth2_93', 'eth2_10', 'eth2_30', 'eth2_23', 'eth2_66', 'eth2_34',\n",
    "                'eth2_21', 'eth2_35', 'eth2_14', 'eth2_12', 'eth2_55', 'eth2_13',\n",
    "                'eth2_32', 'eth2_61', 'eth2_85', 'eth2_29', 'eth2_33', 'eth2_38',\n",
    "                'eth2_15', 'eth2_57', 'eth2_19', 'eth2_26', 'eth2_59', 'eth2_unk']\n",
    "languages = ['languages_description_english', 'languages_description_spanish',\n",
    "                'languages_description_portuguese',\n",
    "                'languages_description_chinese', 'languages_description_italian',\n",
    "                'languages_description_vietnamese', 'languages_description_other',\n",
    "                'languages_description_unknown']\n",
    "income = ['commercialdata_estimatedhhincomeamount_avg']\n",
    "\n",
    "# Group variables related to the 2020 presidential election\n",
    "presidential_2020 = ['g20201103_voted_all', 'g20201103_reg_all', 'g20201103_pct_voted_all',\n",
    "                    'g20201103_voted_gender_m', 'g20201103_reg_gender_m',\n",
    "                    'g20201103_pct_voted_gender_m', 'g20201103_voted_gender_f',\n",
    "                    'g20201103_reg_gender_f', 'g20201103_pct_voted_gender_f',\n",
    "                    'g20201103_voted_gender_unk', 'g20201103_reg_gender_unk',\n",
    "                    'g20201103_pct_voted_gender_unk', 'g20201103_voted_eur',\n",
    "                    'g20201103_reg_eur', 'g20201103_pct_voted_eur', 'g20201103_voted_hisp',\n",
    "                    'g20201103_reg_hisp', 'g20201103_pct_voted_hisp', 'g20201103_voted_aa',\n",
    "                    'g20201103_reg_aa', 'g20201103_pct_voted_aa', 'g20201103_voted_esa',\n",
    "                    'g20201103_reg_esa', 'g20201103_pct_voted_esa', 'g20201103_voted_oth',\n",
    "                    'g20201103_reg_oth', 'g20201103_pct_voted_oth', 'g20201103_voted_unk',\n",
    "                    'g20201103_reg_unk', 'g20201103_pct_voted_unk']"
   ]
  },
  {
   "cell_type": "markdown",
   "metadata": {},
   "source": [
    "## Data Cleaning and Processing"
   ]
  },
  {
   "cell_type": "markdown",
   "metadata": {},
   "source": [
    "### Missingness\n",
    "\n",
    "Issues to resolve:\n",
    "\n",
    "- 'NO BLOCK ASSIGNMENT' entries (ignore or disaggregate to Census Blocks?)\n",
    "- Missing income data (use mean/median income from Census Block Groups/Tracts?)"
   ]
  },
  {
   "cell_type": "code",
   "execution_count": null,
   "metadata": {},
   "outputs": [],
   "source": [
    "# Code here"
   ]
  },
  {
   "cell_type": "markdown",
   "metadata": {},
   "source": [
    "## Imbalance\n",
    "Issues to resolve:\n",
    "- Dominant party and ethnicity categories (?)\n",
    "- Uneven distribution of voters among Census Blocks (use percentage values instead of counts in analysis OR use Census Block Groups?)"
   ]
  },
  {
   "cell_type": "code",
   "execution_count": null,
   "metadata": {},
   "outputs": [],
   "source": [
    "# Code here"
   ]
  }
 ],
 "metadata": {
  "kernelspec": {
   "display_name": "Python 3",
   "language": "python",
   "name": "python3"
  },
  "language_info": {
   "name": "python",
   "version": "3.12.5"
  }
 },
 "nbformat": 4,
 "nbformat_minor": 2
}
