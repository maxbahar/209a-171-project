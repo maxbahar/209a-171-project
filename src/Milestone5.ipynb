{
 "cells": [
  {
   "cell_type": "markdown",
   "metadata": {},
   "source": [
    "# Milestone 5"
   ]
  },
  {
   "cell_type": "code",
   "execution_count": null,
   "metadata": {},
   "outputs": [],
   "source": [
    "# Imports\n",
    "import zipfile\n",
    "import pandas as pd\n",
    "import numpy as np\n",
    "import geopandas as gpd\n",
    "import seaborn as sns\n",
    "import matplotlib.pyplot as plt\n",
    "from matplotlib.lines import Line2D\n",
    "\n",
    "from sklearn.model_selection import train_test_split, KFold, RandomizedSearchCV\n",
    "from sklearn.metrics import r2_score, mean_squared_error\n",
    "from sklearn.linear_model import Lasso, LassoCV, LinearRegression\n",
    "from sklearn.inspection import permutation_importance\n",
    "from sklearn.preprocessing import StandardScaler\n",
    "from sklearn.ensemble import RandomForestRegressor\n",
    "\n",
    "import shap\n",
    "\n",
    "# Specify global variables\n",
    "RANDOM_STATE = 209"
   ]
  },
  {
   "cell_type": "markdown",
   "metadata": {},
   "source": [
    "## 1 | Problem Statement"
   ]
  },
  {
   "cell_type": "markdown",
   "metadata": {},
   "source": [
    "## 2 | EDA"
   ]
  },
  {
   "cell_type": "code",
   "execution_count": null,
   "metadata": {},
   "outputs": [],
   "source": [
    "# Read in the final data\n",
    "voter_gdf = gpd.read_file(\"../data/block_groups.geojson\")\n",
    "\n",
    "# Group the variables together\n",
    "registered = [\"total_reg\"]\n",
    "income = [\"mean_hh_income\"]\n",
    "age = [\"age_18_19\", \"age_20_24\", \"age_25_29\", \"age_30_34\", \"age_35_44\", \n",
    "       \"age_45_54\", \"age_55_64\", \"age_65_74\", \"age_75_84\", \"age_85over\"]\n",
    "gender = [ \"gender_m\", \"gender_f\", \"gender_unknown\"] \n",
    "party = [\"party_npp\", \"party_dem\", \"party_rep\", \"party_lib\", \"party_grn\", \n",
    "         \"party_con\", \"party_ain\", \"party_scl\", \"party_oth\"]\n",
    "ethnicity1 = [\"eth1_eur\", \"eth1_hisp\", \"eth1_aa\",\n",
    "                \"eth1_esa\", \"eth1_oth\", \"eth1_unk\"]\n",
    "languages = [\"lang_english\", \"lang_spanish\", \"lang_portuguese\",\n",
    "             \"lang_chinese\", \"lang_italian\", \"lang_vietnamese\", \n",
    "             \"lang_other\", \"lang_unknown\"]\n",
    "predictors = [*registered, *income, *age, *gender, *party, *ethnicity1, *languages]\n",
    "\n",
    "# Best predictors identified via LASSO and permutation test\n",
    "predictors_subset = [\"mean_hh_income\", \"total_reg\", \n",
    "                     \"lang_unknown\", \"gender_f\", \"party_dem\", \n",
    "                     \"eth1_hisp\", \"eth1_eur\", \"eth1_aa\", \"eth1_oth\",\n",
    "                     \"age_20_24\", \"age_25_29\", \"age_30_34\", \"age_45_54\",]\n",
    "\n",
    "# Define X and y \n",
    "X = voter_gdf.copy()\n",
    "y = voter_gdf[\"2020_turnout_pct\"].copy()"
   ]
  },
  {
   "cell_type": "markdown",
   "metadata": {},
   "source": [
    "## 3 | Modeling"
   ]
  },
  {
   "cell_type": "code",
   "execution_count": null,
   "metadata": {},
   "outputs": [],
   "source": []
  },
  {
   "cell_type": "markdown",
   "metadata": {},
   "source": [
    "## 4 | Results"
   ]
  }
 ],
 "metadata": {
  "kernelspec": {
   "display_name": "Python 3",
   "language": "python",
   "name": "python3"
  },
  "language_info": {
   "codemirror_mode": {
    "name": "ipython",
    "version": 3
   },
   "file_extension": ".py",
   "mimetype": "text/x-python",
   "name": "python",
   "nbconvert_exporter": "python",
   "pygments_lexer": "ipython3",
   "version": "3.12.7"
  }
 },
 "nbformat": 4,
 "nbformat_minor": 2
}
